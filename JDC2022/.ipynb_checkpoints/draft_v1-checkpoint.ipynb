{
 "cells": [
  {
   "cell_type": "code",
   "execution_count": 13,
   "id": "a85cf36d",
   "metadata": {},
   "outputs": [
    {
     "data": {
      "text/plain": [
       "414"
      ]
     },
     "execution_count": 13,
     "metadata": {},
     "output_type": "execute_result"
    }
   ],
   "source": [
    "import pandas as pd\n",
    "from datetime import datetime\n",
    "\n",
    "filePath = r'./01to02.csv'\n",
    "\n",
    "df = pd.read_csv(filePath)\n",
    "date1 = df.iloc[0]['착공일자']\n",
    "date2 = df.iloc[0]['총준공기한일자']\n",
    "date1 = datetime.strptime(str(int(date1)), \"%Y%m%d\")\n",
    "date2 = datetime.strptime(str(int(date2)), \"%Y%m%d\")\n",
    "\n",
    "date_diff = date2-date1\n",
    "date_diff.days"
   ]
  },
  {
   "cell_type": "code",
   "execution_count": 17,
   "id": "d34fc48e",
   "metadata": {},
   "outputs": [
    {
     "data": {
      "text/plain": [
       "전기공사업                              6559\n",
       "실내건축공사업                            3726\n",
       "시설물유지관리업                           2716\n",
       "토목공사업                              2458\n",
       "건축공사업                              2166\n",
       "                                   ... \n",
       "해외건설업(정보통신공사업)                        1\n",
       "해외건설업(전문건설업-실내건축공사업)                  1\n",
       "철도,궤도공사업                              1\n",
       "선박관리업                                 1\n",
       "지하수영향조사기관                             1\n",
       "Name: 주업종, Length: 104, dtype: int64"
      ]
     },
     "execution_count": 17,
     "metadata": {},
     "output_type": "execute_result"
    }
   ],
   "source": [
    "df['주업종'].value_counts()"
   ]
  },
  {
   "cell_type": "code",
   "execution_count": 22,
   "id": "2c1f1e38",
   "metadata": {},
   "outputs": [
    {
     "data": {
      "text/plain": [
       "9                           부천문화예술회관 건립사업\n",
       "14                     레고랜드 주차장 조성사업 건축공사\n",
       "20               시흥은행중 체육관 및 급식소 증축공사(2차)\n",
       "30                   덕풍전통시장 공영주차장 증축 건축공사\n",
       "33                 청년셰어하우스(저전동65-49) 조성공사\n",
       "                       ...               \n",
       "31317         월정 공공하수처리시설 증설사업(전체분 및 1차분)\n",
       "31325                 정약용 청소년센터 조성사업 건축공사\n",
       "31337    로하스다목적센터(건축,기계,토목) 신축공사(총괄분,1차분)\n",
       "31340                        별빛마루도서관 건립공사\n",
       "31342                     전라북도교육청 별관 증축공사\n",
       "Name: 공사명, Length: 2166, dtype: object"
      ]
     },
     "execution_count": 22,
     "metadata": {},
     "output_type": "execute_result"
    }
   ],
   "source": [
    "df.loc[(df['주업종']==\"건축공사업\")&(df['계약금액'])]['공사명']"
   ]
  },
  {
   "cell_type": "code",
   "execution_count": 23,
   "id": "060bbcc5",
   "metadata": {},
   "outputs": [
    {
     "data": {
      "text/plain": [
       "Index(['등록유형', '조달구분', '공고시스템명', '계약번호', '계약변경차수', '수요기관명', '수요기관코드', '수요기관구분',\n",
       "       '수요기관지역명', '공사명', '공사현장', '계약법구분', '계약방법', '최초계약일자', '최초계약금액', '계약일자',\n",
       "       '착공일자', '준공기한일자', '총준공기한일자', '계약금액', '총부기계약금액', '증감계약금액', '공동계약여부',\n",
       "       '주업종', '업체명', '업체사업자등록번호', '업체기업구분명', '조달요청번호', '입찰공고번호', '입찰공고차수',\n",
       "       '추정가격', '예정가격', '입찰계약방법', '낙찰자결정방법', '낙찰율', '낙찰금액', '초년도계약번호', '장기계약차수',\n",
       "       '계약지청명', '계약기관명', '공공조달대분류명', '공공조달중분류명', '공공조달분류명', '공공조달분류번호'],\n",
       "      dtype='object')"
      ]
     },
     "execution_count": 23,
     "metadata": {},
     "output_type": "execute_result"
    }
   ],
   "source": [
    "df.keys()"
   ]
  },
  {
   "cell_type": "code",
   "execution_count": 37,
   "id": "8786577f",
   "metadata": {},
   "outputs": [
    {
     "data": {
      "text/plain": [
       "Index(['전기공사', '실내건축공사', '시설물유지관리공사', '건축공사', '토목공사', '정보통신공사', '소방시설공사',\n",
       "       '상하수도설비공사', '기계설비공사', '금속구조물·창호공사', '기타시설공사', '철근콘크리트공사', '도장공사',\n",
       "       '포장공사', '석면해체제거공사', '조경식재공사', '토공사', '조경공사', '조경시설물설치공사', '석공사',\n",
       "       '비계·구조물해체공사', '가스시설시공', '습식방수공사', '문화재수리공사', '산업환경설비공사', '난방시공',\n",
       "       '승강기설치공사', '지붕판금·건축물조립공사', '보링그라우팅공사', '준설공사', '수중공사', '강구조물공사',\n",
       "       '철강재설치공사', '철도궤도공사', '삭도설치공사'],\n",
       "      dtype='object')"
      ]
     },
     "execution_count": 37,
     "metadata": {},
     "output_type": "execute_result"
    }
   ],
   "source": [
    "df1 = df[['수요기관명', '수요기관구분', '수요기관지역명', '공사명', '공사현장',\n",
    "         '착공일자', '총준공기한일자', '총부기계약금액', '증감계약금액', '주업종',\n",
    "         '업체명', '공공조달대분류명', '공공조달중분류명', '공공조달분류명']]\n",
    "df1 = df1.dropna()\n",
    "# max(df1['공공조달분류명'].value_counts())\n",
    "# df1['공공조달분류명'].value_counts()['기계설비공사']\n",
    "df1['공공조달분류명'].value_counts().keys()"
   ]
  },
  {
   "cell_type": "code",
   "execution_count": 83,
   "id": "7449851e",
   "metadata": {},
   "outputs": [
    {
     "name": "stdout",
     "output_type": "stream",
     "text": [
      "(0.1761890881875695, 4.702466295434895e-06)\n"
     ]
    },
    {
     "data": {
      "image/png": "[encoded data removed]",
      "text/plain": [
       "<Figure size 432x288 with 1 Axes>"
      ]
     },
     "metadata": {
      "needs_background": "light"
     },
     "output_type": "display_data"
    }
   ],
   "source": [
    "import pandas as pd\n",
    "import matplotlib.pyplot as plt\n",
    "from datetime import datetime\n",
    "from scipy import stats\n",
    "\n",
    "filePath   = r'./01to02.csv'\n",
    "targetCols = ['수요기관명', '수요기관구분', '수요기관지역명',\n",
    "              '공사명', '공사현장', '착공일자', '총준공기한일자', '총부기계약금액', '증감계약금액',\n",
    "              '주업종', '업체명', '공공조달대분류명', '공공조달중분류명', '공공조달분류명']\n",
    "\n",
    "df = pd.read_csv(filePath)\n",
    "df = df[targetCols].dropna()\n",
    "\n",
    "## condition 1\n",
    "\n",
    "targetCol = '공공조달분류명'\n",
    "targetVal = max(df[targetCol].value_counts())*0.1\n",
    "tempCols  = [col for col in df[targetCol].value_counts().keys()\\\n",
    "             if df[targetCol].value_counts()[col] > targetVal]\n",
    "\n",
    "days, costs = [], []\n",
    "\n",
    "df_ = df.loc[df[targetCol]==tempCols[12]] # 0, 3, 4, 5, 6, 11 (8, 11)\n",
    "\n",
    "for i in range(len(df_)):\n",
    "    day1 = datetime.strptime(str(int(df_.iloc[i]['착공일자'])), \"%Y%m%d\")\n",
    "    day2 = datetime.strptime(str(int(df_.iloc[i]['총준공기한일자'])), \"%Y%m%d\")\n",
    "    day  = (day2-day1).days\n",
    "    if day > 0:\n",
    "        days.append(day)\n",
    "        costs.append(int(df_.iloc[i]['총부기계약금액']))\n",
    "\n",
    "print(stats.pearsonr(days, costs))\n",
    "plt.scatter(days, costs)\n",
    "plt.show()"
   ]
  },
  {
   "cell_type": "code",
   "execution_count": 86,
   "id": "37a2e371",
   "metadata": {},
   "outputs": [
    {
     "data": {
      "text/plain": [
       "'철근콘크리트공사'"
      ]
     },
     "execution_count": 86,
     "metadata": {},
     "output_type": "execute_result"
    }
   ],
   "source": [
    "tempCols[11]"
   ]
  }
 ],
 "metadata": {
  "kernelspec": {
   "display_name": "env2",
   "language": "python",
   "name": "env2"
  },
  "language_info": {
   "codemirror_mode": {
    "name": "ipython",
    "version": 3
   },
   "file_extension": ".py",
   "mimetype": "text/x-python",
   "name": "python",
   "nbconvert_exporter": "python",
   "pygments_lexer": "ipython3",
   "version": "3.10.1"
  }
 },
 "nbformat": 4,
 "nbformat_minor": 5
}
